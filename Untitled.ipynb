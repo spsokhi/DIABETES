{
 "cells": [
  {
   "cell_type": "code",
   "execution_count": 2,
   "id": "32b3b351",
   "metadata": {},
   "outputs": [
    {
     "name": "stderr",
     "output_type": "stream",
     "text": [
      "C:\\ProgramData\\Anaconda3\\lib\\site-packages\\scipy\\__init__.py:146: UserWarning: A NumPy version >=1.16.5 and <1.23.0 is required for this version of SciPy (detected version 1.26.2\n",
      "  warnings.warn(f\"A NumPy version >={np_minversion} and <{np_maxversion}\"\n"
     ]
    },
    {
     "name": "stdout",
     "output_type": "stream",
     "text": [
      "     pregnancies  glucose  bloodpressure  skinthickness  insulin   bmi  \\\n",
      "0              6      148             72             35        0  33.6   \n",
      "1              1       85             66             29        0  26.6   \n",
      "2              8      183             64              0        0  23.3   \n",
      "3              1       89             66             23       94  28.1   \n",
      "4              0      137             40             35      168  43.1   \n",
      "..           ...      ...            ...            ...      ...   ...   \n",
      "763           10      101             76             48      180  32.9   \n",
      "764            2      122             70             27        0  36.8   \n",
      "765            5      121             72             23      112  26.2   \n",
      "766            1      126             60              0        0  30.1   \n",
      "767            1       93             70             31        0  30.4   \n",
      "\n",
      "     diabetespedigreefunction  age  outcome  \n",
      "0                       0.627   50     True  \n",
      "1                       0.351   31    False  \n",
      "2                       0.672   32     True  \n",
      "3                       0.167   21    False  \n",
      "4                       2.288   33     True  \n",
      "..                        ...  ...      ...  \n",
      "763                     0.171   63    False  \n",
      "764                     0.340   27    False  \n",
      "765                     0.245   30    False  \n",
      "766                     0.349   47     True  \n",
      "767                     0.315   23    False  \n",
      "\n",
      "[768 rows x 9 columns]\n",
      "<class 'pandas.core.frame.DataFrame'>\n",
      "RangeIndex: 768 entries, 0 to 767\n",
      "Data columns (total 9 columns):\n",
      " #   Column                    Non-Null Count  Dtype  \n",
      "---  ------                    --------------  -----  \n",
      " 0   pregnancies               768 non-null    int64  \n",
      " 1   glucose                   768 non-null    int64  \n",
      " 2   bloodpressure             768 non-null    int64  \n",
      " 3   skinthickness             768 non-null    int64  \n",
      " 4   insulin                   768 non-null    int64  \n",
      " 5   bmi                       768 non-null    float64\n",
      " 6   diabetespedigreefunction  768 non-null    float64\n",
      " 7   age                       768 non-null    int64  \n",
      " 8   outcome                   768 non-null    bool   \n",
      "dtypes: bool(1), float64(2), int64(6)\n",
      "memory usage: 48.9 KB\n",
      "None\n",
      "PREGNANCIES6\n",
      "GLUCOSE148\n",
      "BLOOD_PRESSURE72\n",
      "SKIN_THICKNESS35\n",
      "INSULIN0\n",
      "BMI33.6\n",
      "DIABETES_PEDIGREE_FUNCTION0.627\n",
      "AGE50\n",
      "True\n"
     ]
    },
    {
     "name": "stderr",
     "output_type": "stream",
     "text": [
      "C:\\ProgramData\\Anaconda3\\lib\\site-packages\\sklearn\\base.py:450: UserWarning: X does not have valid feature names, but DecisionTreeClassifier was fitted with feature names\n",
      "  warnings.warn(\n"
     ]
    }
   ],
   "source": [
    "import pandas as pd\n",
    "from sklearn.preprocessing import LabelEncoder\n",
    "from sklearn.tree import DecisionTreeClassifier\n",
    "\n",
    "path = \"/Users/spsokhi/Downloads/DIABETES/diabetes_project/diabetes.csv\"\n",
    "data = pd.read_csv(path)\n",
    "print(data)\n",
    "print(data.info())\n",
    "\n",
    "le = LabelEncoder()\n",
    "data['Outcome'] = le.fit_transform(data['outcome'])\n",
    "\n",
    "inputs = data[['pregnancies','glucose','bloodpressure','skinthickness','insulin','bmi','diabetespedigreefunction','age']]\n",
    "output = data['outcome']\n",
    "\n",
    "model = DecisionTreeClassifier()\n",
    "model.fit(inputs,output)\n",
    "\n",
    "pre = float(input(\"PREGNANCIES\"))\n",
    "glu = float(input(\"GLUCOSE\"))\n",
    "blo = float(input(\"BLOOD_PRESSURE\"))\n",
    "ski = float(input(\"SKIN_THICKNESS\"))\n",
    "ins = float(input(\"INSULIN\"))\n",
    "bmi = float(input(\"BMI\"))\n",
    "dia = float(input(\"DIABETES_PEDIGREE_FUNCTION\"))\n",
    "age = float(input(\"AGE\"))\n",
    "\n",
    "prediction = model.predict([[pre,glu,blo,ski,ins,bmi,dia,age]])\n",
    "print(prediction[0])"
   ]
  }
 ],
 "metadata": {
  "kernelspec": {
   "display_name": "Python 3 (ipykernel)",
   "language": "python",
   "name": "python3"
  },
  "language_info": {
   "codemirror_mode": {
    "name": "ipython",
    "version": 3
   },
   "file_extension": ".py",
   "mimetype": "text/x-python",
   "name": "python",
   "nbconvert_exporter": "python",
   "pygments_lexer": "ipython3",
   "version": "3.9.12"
  }
 },
 "nbformat": 4,
 "nbformat_minor": 5
}
